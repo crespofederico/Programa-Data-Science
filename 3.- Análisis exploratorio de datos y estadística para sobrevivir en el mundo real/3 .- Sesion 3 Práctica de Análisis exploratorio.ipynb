{
 "cells": [
  {
   "cell_type": "markdown",
   "metadata": {},
   "source": [
    "# Análisis exploratorio de datos: La venganza"
   ]
  },
  {
   "cell_type": "markdown",
   "metadata": {},
   "source": [
    "Esta sesión será práctica: Con lo que vimos en la sesión anterior, atacaremos a dos datasets: Uno es especial, ya que tendrá un par de componentes geoespaciales"
   ]
  },
  {
   "cell_type": "markdown",
   "metadata": {},
   "source": [
    "## Análisis de un Dataset de Negocios"
   ]
  },
  {
   "cell_type": "code",
   "execution_count": 2,
   "metadata": {
    "collapsed": true
   },
   "outputs": [],
   "source": [
    "from pandas import read_csv\n",
    "customers = read_csv('datasets/SampleBusiness-Customers.csv')\n",
    "products = read_csv('datasets/SampleBusiness-Products.csv')\n",
    "promotions = read_csv('datasets/SampleBusiness-Promotions.csv')\n",
    "orders = read_csv('datasets/SampleBusiness-Orders.csv', parse_dates=[1])"
   ]
  },
  {
   "cell_type": "code",
   "execution_count": 3,
   "metadata": {
    "collapsed": true
   },
   "outputs": [
    {
     "data": {
      "text/html": [
       "<div>\n",
       "<table border=\"1\" class=\"dataframe\">\n",
       "  <thead>\n",
       "    <tr style=\"text-align: right;\">\n",
       "      <th></th>\n",
       "      <th>OrderID</th>\n",
       "      <th>OrderDateTime</th>\n",
       "      <th>CustomerID</th>\n",
       "      <th>ProductID</th>\n",
       "      <th>ProductQuantity</th>\n",
       "      <th>PromotionID</th>\n",
       "      <th>ProductName</th>\n",
       "      <th>ProductCost</th>\n",
       "      <th>ProductPrice</th>\n",
       "    </tr>\n",
       "  </thead>\n",
       "  <tbody>\n",
       "    <tr>\n",
       "      <th>0</th>\n",
       "      <td>1</td>\n",
       "      <td>2012-06-09 06:20:18</td>\n",
       "      <td>73</td>\n",
       "      <td>5</td>\n",
       "      <td>46</td>\n",
       "      <td>3</td>\n",
       "      <td>Proyector Circular de 22\"</td>\n",
       "      <td>150</td>\n",
       "      <td>250</td>\n",
       "    </tr>\n",
       "    <tr>\n",
       "      <th>1</th>\n",
       "      <td>5</td>\n",
       "      <td>2012-04-26 07:27:43</td>\n",
       "      <td>153</td>\n",
       "      <td>5</td>\n",
       "      <td>44</td>\n",
       "      <td>4</td>\n",
       "      <td>Proyector Circular de 22\"</td>\n",
       "      <td>150</td>\n",
       "      <td>250</td>\n",
       "    </tr>\n",
       "    <tr>\n",
       "      <th>2</th>\n",
       "      <td>13</td>\n",
       "      <td>2012-05-31 01:37:53</td>\n",
       "      <td>260</td>\n",
       "      <td>5</td>\n",
       "      <td>63</td>\n",
       "      <td>2</td>\n",
       "      <td>Proyector Circular de 22\"</td>\n",
       "      <td>150</td>\n",
       "      <td>250</td>\n",
       "    </tr>\n",
       "    <tr>\n",
       "      <th>3</th>\n",
       "      <td>19</td>\n",
       "      <td>2012-05-05 06:23:25</td>\n",
       "      <td>99</td>\n",
       "      <td>5</td>\n",
       "      <td>11</td>\n",
       "      <td>5</td>\n",
       "      <td>Proyector Circular de 22\"</td>\n",
       "      <td>150</td>\n",
       "      <td>250</td>\n",
       "    </tr>\n",
       "    <tr>\n",
       "      <th>4</th>\n",
       "      <td>20</td>\n",
       "      <td>2012-04-16 11:38:15</td>\n",
       "      <td>166</td>\n",
       "      <td>5</td>\n",
       "      <td>21</td>\n",
       "      <td>3</td>\n",
       "      <td>Proyector Circular de 22\"</td>\n",
       "      <td>150</td>\n",
       "      <td>250</td>\n",
       "    </tr>\n",
       "    <tr>\n",
       "      <th>5</th>\n",
       "      <td>23</td>\n",
       "      <td>2012-02-01 06:28:44</td>\n",
       "      <td>287</td>\n",
       "      <td>5</td>\n",
       "      <td>29</td>\n",
       "      <td>1</td>\n",
       "      <td>Proyector Circular de 22\"</td>\n",
       "      <td>150</td>\n",
       "      <td>250</td>\n",
       "    </tr>\n",
       "    <tr>\n",
       "      <th>6</th>\n",
       "      <td>50</td>\n",
       "      <td>2012-06-09 00:03:37</td>\n",
       "      <td>246</td>\n",
       "      <td>5</td>\n",
       "      <td>39</td>\n",
       "      <td>5</td>\n",
       "      <td>Proyector Circular de 22\"</td>\n",
       "      <td>150</td>\n",
       "      <td>250</td>\n",
       "    </tr>\n",
       "    <tr>\n",
       "      <th>7</th>\n",
       "      <td>52</td>\n",
       "      <td>2012-06-12 01:12:01</td>\n",
       "      <td>303</td>\n",
       "      <td>5</td>\n",
       "      <td>66</td>\n",
       "      <td>3</td>\n",
       "      <td>Proyector Circular de 22\"</td>\n",
       "      <td>150</td>\n",
       "      <td>250</td>\n",
       "    </tr>\n",
       "    <tr>\n",
       "      <th>8</th>\n",
       "      <td>60</td>\n",
       "      <td>2012-02-09 01:18:25</td>\n",
       "      <td>116</td>\n",
       "      <td>5</td>\n",
       "      <td>46</td>\n",
       "      <td>5</td>\n",
       "      <td>Proyector Circular de 22\"</td>\n",
       "      <td>150</td>\n",
       "      <td>250</td>\n",
       "    </tr>\n",
       "    <tr>\n",
       "      <th>9</th>\n",
       "      <td>64</td>\n",
       "      <td>2012-02-20 18:19:09</td>\n",
       "      <td>51</td>\n",
       "      <td>5</td>\n",
       "      <td>3</td>\n",
       "      <td>3</td>\n",
       "      <td>Proyector Circular de 22\"</td>\n",
       "      <td>150</td>\n",
       "      <td>250</td>\n",
       "    </tr>\n",
       "    <tr>\n",
       "      <th>10</th>\n",
       "      <td>75</td>\n",
       "      <td>2012-06-26 00:45:35</td>\n",
       "      <td>459</td>\n",
       "      <td>5</td>\n",
       "      <td>62</td>\n",
       "      <td>3</td>\n",
       "      <td>Proyector Circular de 22\"</td>\n",
       "      <td>150</td>\n",
       "      <td>250</td>\n",
       "    </tr>\n",
       "    <tr>\n",
       "      <th>11</th>\n",
       "      <td>86</td>\n",
       "      <td>2012-01-15 03:46:17</td>\n",
       "      <td>196</td>\n",
       "      <td>5</td>\n",
       "      <td>80</td>\n",
       "      <td>2</td>\n",
       "      <td>Proyector Circular de 22\"</td>\n",
       "      <td>150</td>\n",
       "      <td>250</td>\n",
       "    </tr>\n",
       "    <tr>\n",
       "      <th>12</th>\n",
       "      <td>94</td>\n",
       "      <td>2012-01-22 23:54:54</td>\n",
       "      <td>438</td>\n",
       "      <td>5</td>\n",
       "      <td>2</td>\n",
       "      <td>5</td>\n",
       "      <td>Proyector Circular de 22\"</td>\n",
       "      <td>150</td>\n",
       "      <td>250</td>\n",
       "    </tr>\n",
       "    <tr>\n",
       "      <th>13</th>\n",
       "      <td>101</td>\n",
       "      <td>2012-05-09 01:28:58</td>\n",
       "      <td>431</td>\n",
       "      <td>5</td>\n",
       "      <td>46</td>\n",
       "      <td>1</td>\n",
       "      <td>Proyector Circular de 22\"</td>\n",
       "      <td>150</td>\n",
       "      <td>250</td>\n",
       "    </tr>\n",
       "    <tr>\n",
       "      <th>14</th>\n",
       "      <td>130</td>\n",
       "      <td>2012-03-19 15:09:26</td>\n",
       "      <td>22</td>\n",
       "      <td>5</td>\n",
       "      <td>82</td>\n",
       "      <td>1</td>\n",
       "      <td>Proyector Circular de 22\"</td>\n",
       "      <td>150</td>\n",
       "      <td>250</td>\n",
       "    </tr>\n",
       "    <tr>\n",
       "      <th>15</th>\n",
       "      <td>134</td>\n",
       "      <td>2012-02-18 08:17:49</td>\n",
       "      <td>127</td>\n",
       "      <td>5</td>\n",
       "      <td>95</td>\n",
       "      <td>2</td>\n",
       "      <td>Proyector Circular de 22\"</td>\n",
       "      <td>150</td>\n",
       "      <td>250</td>\n",
       "    </tr>\n",
       "    <tr>\n",
       "      <th>16</th>\n",
       "      <td>137</td>\n",
       "      <td>2012-01-23 22:40:24</td>\n",
       "      <td>467</td>\n",
       "      <td>5</td>\n",
       "      <td>84</td>\n",
       "      <td>1</td>\n",
       "      <td>Proyector Circular de 22\"</td>\n",
       "      <td>150</td>\n",
       "      <td>250</td>\n",
       "    </tr>\n",
       "    <tr>\n",
       "      <th>17</th>\n",
       "      <td>155</td>\n",
       "      <td>2012-02-14 04:19:41</td>\n",
       "      <td>175</td>\n",
       "      <td>5</td>\n",
       "      <td>59</td>\n",
       "      <td>4</td>\n",
       "      <td>Proyector Circular de 22\"</td>\n",
       "      <td>150</td>\n",
       "      <td>250</td>\n",
       "    </tr>\n",
       "    <tr>\n",
       "      <th>18</th>\n",
       "      <td>169</td>\n",
       "      <td>2012-05-25 14:26:26</td>\n",
       "      <td>404</td>\n",
       "      <td>5</td>\n",
       "      <td>88</td>\n",
       "      <td>2</td>\n",
       "      <td>Proyector Circular de 22\"</td>\n",
       "      <td>150</td>\n",
       "      <td>250</td>\n",
       "    </tr>\n",
       "    <tr>\n",
       "      <th>19</th>\n",
       "      <td>186</td>\n",
       "      <td>2012-03-06 13:20:00</td>\n",
       "      <td>108</td>\n",
       "      <td>5</td>\n",
       "      <td>21</td>\n",
       "      <td>1</td>\n",
       "      <td>Proyector Circular de 22\"</td>\n",
       "      <td>150</td>\n",
       "      <td>250</td>\n",
       "    </tr>\n",
       "    <tr>\n",
       "      <th>20</th>\n",
       "      <td>193</td>\n",
       "      <td>2012-02-02 07:45:42</td>\n",
       "      <td>264</td>\n",
       "      <td>5</td>\n",
       "      <td>17</td>\n",
       "      <td>2</td>\n",
       "      <td>Proyector Circular de 22\"</td>\n",
       "      <td>150</td>\n",
       "      <td>250</td>\n",
       "    </tr>\n",
       "    <tr>\n",
       "      <th>21</th>\n",
       "      <td>207</td>\n",
       "      <td>2012-03-12 19:13:10</td>\n",
       "      <td>335</td>\n",
       "      <td>5</td>\n",
       "      <td>15</td>\n",
       "      <td>5</td>\n",
       "      <td>Proyector Circular de 22\"</td>\n",
       "      <td>150</td>\n",
       "      <td>250</td>\n",
       "    </tr>\n",
       "    <tr>\n",
       "      <th>22</th>\n",
       "      <td>208</td>\n",
       "      <td>2012-01-03 03:44:41</td>\n",
       "      <td>473</td>\n",
       "      <td>5</td>\n",
       "      <td>8</td>\n",
       "      <td>5</td>\n",
       "      <td>Proyector Circular de 22\"</td>\n",
       "      <td>150</td>\n",
       "      <td>250</td>\n",
       "    </tr>\n",
       "    <tr>\n",
       "      <th>23</th>\n",
       "      <td>216</td>\n",
       "      <td>2012-05-29 12:07:31</td>\n",
       "      <td>364</td>\n",
       "      <td>5</td>\n",
       "      <td>90</td>\n",
       "      <td>3</td>\n",
       "      <td>Proyector Circular de 22\"</td>\n",
       "      <td>150</td>\n",
       "      <td>250</td>\n",
       "    </tr>\n",
       "    <tr>\n",
       "      <th>24</th>\n",
       "      <td>221</td>\n",
       "      <td>2012-02-19 05:44:41</td>\n",
       "      <td>494</td>\n",
       "      <td>5</td>\n",
       "      <td>95</td>\n",
       "      <td>1</td>\n",
       "      <td>Proyector Circular de 22\"</td>\n",
       "      <td>150</td>\n",
       "      <td>250</td>\n",
       "    </tr>\n",
       "    <tr>\n",
       "      <th>25</th>\n",
       "      <td>228</td>\n",
       "      <td>2012-02-17 09:13:50</td>\n",
       "      <td>420</td>\n",
       "      <td>5</td>\n",
       "      <td>14</td>\n",
       "      <td>3</td>\n",
       "      <td>Proyector Circular de 22\"</td>\n",
       "      <td>150</td>\n",
       "      <td>250</td>\n",
       "    </tr>\n",
       "    <tr>\n",
       "      <th>26</th>\n",
       "      <td>241</td>\n",
       "      <td>2012-05-21 11:52:16</td>\n",
       "      <td>399</td>\n",
       "      <td>5</td>\n",
       "      <td>59</td>\n",
       "      <td>2</td>\n",
       "      <td>Proyector Circular de 22\"</td>\n",
       "      <td>150</td>\n",
       "      <td>250</td>\n",
       "    </tr>\n",
       "    <tr>\n",
       "      <th>27</th>\n",
       "      <td>245</td>\n",
       "      <td>2012-02-29 09:19:27</td>\n",
       "      <td>185</td>\n",
       "      <td>5</td>\n",
       "      <td>75</td>\n",
       "      <td>4</td>\n",
       "      <td>Proyector Circular de 22\"</td>\n",
       "      <td>150</td>\n",
       "      <td>250</td>\n",
       "    </tr>\n",
       "    <tr>\n",
       "      <th>28</th>\n",
       "      <td>273</td>\n",
       "      <td>2012-06-08 08:22:28</td>\n",
       "      <td>13</td>\n",
       "      <td>5</td>\n",
       "      <td>30</td>\n",
       "      <td>1</td>\n",
       "      <td>Proyector Circular de 22\"</td>\n",
       "      <td>150</td>\n",
       "      <td>250</td>\n",
       "    </tr>\n",
       "    <tr>\n",
       "      <th>29</th>\n",
       "      <td>285</td>\n",
       "      <td>2012-04-07 11:41:04</td>\n",
       "      <td>9</td>\n",
       "      <td>5</td>\n",
       "      <td>9</td>\n",
       "      <td>1</td>\n",
       "      <td>Proyector Circular de 22\"</td>\n",
       "      <td>150</td>\n",
       "      <td>250</td>\n",
       "    </tr>\n",
       "    <tr>\n",
       "      <th>...</th>\n",
       "      <td>...</td>\n",
       "      <td>...</td>\n",
       "      <td>...</td>\n",
       "      <td>...</td>\n",
       "      <td>...</td>\n",
       "      <td>...</td>\n",
       "      <td>...</td>\n",
       "      <td>...</td>\n",
       "      <td>...</td>\n",
       "    </tr>\n",
       "    <tr>\n",
       "      <th>9970</th>\n",
       "      <td>9705</td>\n",
       "      <td>2012-01-25 04:27:40</td>\n",
       "      <td>390</td>\n",
       "      <td>2</td>\n",
       "      <td>65</td>\n",
       "      <td>5</td>\n",
       "      <td>Murolite 250W</td>\n",
       "      <td>350</td>\n",
       "      <td>400</td>\n",
       "    </tr>\n",
       "    <tr>\n",
       "      <th>9971</th>\n",
       "      <td>9707</td>\n",
       "      <td>2012-02-22 15:11:11</td>\n",
       "      <td>452</td>\n",
       "      <td>2</td>\n",
       "      <td>41</td>\n",
       "      <td>4</td>\n",
       "      <td>Murolite 250W</td>\n",
       "      <td>350</td>\n",
       "      <td>400</td>\n",
       "    </tr>\n",
       "    <tr>\n",
       "      <th>9972</th>\n",
       "      <td>9723</td>\n",
       "      <td>2012-03-20 03:02:10</td>\n",
       "      <td>353</td>\n",
       "      <td>2</td>\n",
       "      <td>30</td>\n",
       "      <td>1</td>\n",
       "      <td>Murolite 250W</td>\n",
       "      <td>350</td>\n",
       "      <td>400</td>\n",
       "    </tr>\n",
       "    <tr>\n",
       "      <th>9973</th>\n",
       "      <td>9726</td>\n",
       "      <td>2012-05-04 21:17:11</td>\n",
       "      <td>114</td>\n",
       "      <td>2</td>\n",
       "      <td>59</td>\n",
       "      <td>4</td>\n",
       "      <td>Murolite 250W</td>\n",
       "      <td>350</td>\n",
       "      <td>400</td>\n",
       "    </tr>\n",
       "    <tr>\n",
       "      <th>9974</th>\n",
       "      <td>9728</td>\n",
       "      <td>2012-01-21 21:44:36</td>\n",
       "      <td>335</td>\n",
       "      <td>2</td>\n",
       "      <td>80</td>\n",
       "      <td>4</td>\n",
       "      <td>Murolite 250W</td>\n",
       "      <td>350</td>\n",
       "      <td>400</td>\n",
       "    </tr>\n",
       "    <tr>\n",
       "      <th>9975</th>\n",
       "      <td>9763</td>\n",
       "      <td>2012-03-15 11:42:13</td>\n",
       "      <td>372</td>\n",
       "      <td>2</td>\n",
       "      <td>84</td>\n",
       "      <td>4</td>\n",
       "      <td>Murolite 250W</td>\n",
       "      <td>350</td>\n",
       "      <td>400</td>\n",
       "    </tr>\n",
       "    <tr>\n",
       "      <th>9976</th>\n",
       "      <td>9772</td>\n",
       "      <td>2012-03-14 01:18:36</td>\n",
       "      <td>293</td>\n",
       "      <td>2</td>\n",
       "      <td>72</td>\n",
       "      <td>2</td>\n",
       "      <td>Murolite 250W</td>\n",
       "      <td>350</td>\n",
       "      <td>400</td>\n",
       "    </tr>\n",
       "    <tr>\n",
       "      <th>9977</th>\n",
       "      <td>9773</td>\n",
       "      <td>2012-03-19 08:18:19</td>\n",
       "      <td>29</td>\n",
       "      <td>2</td>\n",
       "      <td>65</td>\n",
       "      <td>3</td>\n",
       "      <td>Murolite 250W</td>\n",
       "      <td>350</td>\n",
       "      <td>400</td>\n",
       "    </tr>\n",
       "    <tr>\n",
       "      <th>9978</th>\n",
       "      <td>9774</td>\n",
       "      <td>2012-06-09 10:33:07</td>\n",
       "      <td>107</td>\n",
       "      <td>2</td>\n",
       "      <td>64</td>\n",
       "      <td>3</td>\n",
       "      <td>Murolite 250W</td>\n",
       "      <td>350</td>\n",
       "      <td>400</td>\n",
       "    </tr>\n",
       "    <tr>\n",
       "      <th>9979</th>\n",
       "      <td>9780</td>\n",
       "      <td>2012-02-04 11:38:01</td>\n",
       "      <td>394</td>\n",
       "      <td>2</td>\n",
       "      <td>77</td>\n",
       "      <td>5</td>\n",
       "      <td>Murolite 250W</td>\n",
       "      <td>350</td>\n",
       "      <td>400</td>\n",
       "    </tr>\n",
       "    <tr>\n",
       "      <th>9980</th>\n",
       "      <td>9781</td>\n",
       "      <td>2012-06-19 15:24:42</td>\n",
       "      <td>104</td>\n",
       "      <td>2</td>\n",
       "      <td>29</td>\n",
       "      <td>3</td>\n",
       "      <td>Murolite 250W</td>\n",
       "      <td>350</td>\n",
       "      <td>400</td>\n",
       "    </tr>\n",
       "    <tr>\n",
       "      <th>9981</th>\n",
       "      <td>9847</td>\n",
       "      <td>2012-03-23 11:54:21</td>\n",
       "      <td>486</td>\n",
       "      <td>2</td>\n",
       "      <td>34</td>\n",
       "      <td>3</td>\n",
       "      <td>Murolite 250W</td>\n",
       "      <td>350</td>\n",
       "      <td>400</td>\n",
       "    </tr>\n",
       "    <tr>\n",
       "      <th>9982</th>\n",
       "      <td>9890</td>\n",
       "      <td>2012-03-27 22:17:06</td>\n",
       "      <td>237</td>\n",
       "      <td>2</td>\n",
       "      <td>51</td>\n",
       "      <td>4</td>\n",
       "      <td>Murolite 250W</td>\n",
       "      <td>350</td>\n",
       "      <td>400</td>\n",
       "    </tr>\n",
       "    <tr>\n",
       "      <th>9983</th>\n",
       "      <td>9907</td>\n",
       "      <td>2012-06-10 12:10:21</td>\n",
       "      <td>424</td>\n",
       "      <td>2</td>\n",
       "      <td>89</td>\n",
       "      <td>3</td>\n",
       "      <td>Murolite 250W</td>\n",
       "      <td>350</td>\n",
       "      <td>400</td>\n",
       "    </tr>\n",
       "    <tr>\n",
       "      <th>9984</th>\n",
       "      <td>9918</td>\n",
       "      <td>2012-06-10 21:19:26</td>\n",
       "      <td>2</td>\n",
       "      <td>2</td>\n",
       "      <td>55</td>\n",
       "      <td>2</td>\n",
       "      <td>Murolite 250W</td>\n",
       "      <td>350</td>\n",
       "      <td>400</td>\n",
       "    </tr>\n",
       "    <tr>\n",
       "      <th>9985</th>\n",
       "      <td>9921</td>\n",
       "      <td>2012-01-08 20:09:32</td>\n",
       "      <td>198</td>\n",
       "      <td>2</td>\n",
       "      <td>98</td>\n",
       "      <td>2</td>\n",
       "      <td>Murolite 250W</td>\n",
       "      <td>350</td>\n",
       "      <td>400</td>\n",
       "    </tr>\n",
       "    <tr>\n",
       "      <th>9986</th>\n",
       "      <td>9928</td>\n",
       "      <td>2012-01-10 17:24:25</td>\n",
       "      <td>496</td>\n",
       "      <td>2</td>\n",
       "      <td>94</td>\n",
       "      <td>1</td>\n",
       "      <td>Murolite 250W</td>\n",
       "      <td>350</td>\n",
       "      <td>400</td>\n",
       "    </tr>\n",
       "    <tr>\n",
       "      <th>9987</th>\n",
       "      <td>9930</td>\n",
       "      <td>2012-05-12 01:53:54</td>\n",
       "      <td>480</td>\n",
       "      <td>2</td>\n",
       "      <td>29</td>\n",
       "      <td>4</td>\n",
       "      <td>Murolite 250W</td>\n",
       "      <td>350</td>\n",
       "      <td>400</td>\n",
       "    </tr>\n",
       "    <tr>\n",
       "      <th>9988</th>\n",
       "      <td>9933</td>\n",
       "      <td>2012-04-16 19:39:45</td>\n",
       "      <td>211</td>\n",
       "      <td>2</td>\n",
       "      <td>63</td>\n",
       "      <td>1</td>\n",
       "      <td>Murolite 250W</td>\n",
       "      <td>350</td>\n",
       "      <td>400</td>\n",
       "    </tr>\n",
       "    <tr>\n",
       "      <th>9989</th>\n",
       "      <td>9936</td>\n",
       "      <td>2012-02-21 05:27:58</td>\n",
       "      <td>431</td>\n",
       "      <td>2</td>\n",
       "      <td>51</td>\n",
       "      <td>2</td>\n",
       "      <td>Murolite 250W</td>\n",
       "      <td>350</td>\n",
       "      <td>400</td>\n",
       "    </tr>\n",
       "    <tr>\n",
       "      <th>9990</th>\n",
       "      <td>9948</td>\n",
       "      <td>2012-06-09 17:49:30</td>\n",
       "      <td>142</td>\n",
       "      <td>2</td>\n",
       "      <td>89</td>\n",
       "      <td>5</td>\n",
       "      <td>Murolite 250W</td>\n",
       "      <td>350</td>\n",
       "      <td>400</td>\n",
       "    </tr>\n",
       "    <tr>\n",
       "      <th>9991</th>\n",
       "      <td>9952</td>\n",
       "      <td>2012-03-19 07:40:41</td>\n",
       "      <td>277</td>\n",
       "      <td>2</td>\n",
       "      <td>58</td>\n",
       "      <td>3</td>\n",
       "      <td>Murolite 250W</td>\n",
       "      <td>350</td>\n",
       "      <td>400</td>\n",
       "    </tr>\n",
       "    <tr>\n",
       "      <th>9992</th>\n",
       "      <td>9953</td>\n",
       "      <td>2012-01-29 07:55:46</td>\n",
       "      <td>464</td>\n",
       "      <td>2</td>\n",
       "      <td>82</td>\n",
       "      <td>1</td>\n",
       "      <td>Murolite 250W</td>\n",
       "      <td>350</td>\n",
       "      <td>400</td>\n",
       "    </tr>\n",
       "    <tr>\n",
       "      <th>9993</th>\n",
       "      <td>9960</td>\n",
       "      <td>2012-05-04 22:34:15</td>\n",
       "      <td>130</td>\n",
       "      <td>2</td>\n",
       "      <td>85</td>\n",
       "      <td>1</td>\n",
       "      <td>Murolite 250W</td>\n",
       "      <td>350</td>\n",
       "      <td>400</td>\n",
       "    </tr>\n",
       "    <tr>\n",
       "      <th>9994</th>\n",
       "      <td>9964</td>\n",
       "      <td>2012-04-02 12:22:39</td>\n",
       "      <td>79</td>\n",
       "      <td>2</td>\n",
       "      <td>32</td>\n",
       "      <td>4</td>\n",
       "      <td>Murolite 250W</td>\n",
       "      <td>350</td>\n",
       "      <td>400</td>\n",
       "    </tr>\n",
       "    <tr>\n",
       "      <th>9995</th>\n",
       "      <td>9979</td>\n",
       "      <td>2012-01-16 15:16:31</td>\n",
       "      <td>460</td>\n",
       "      <td>2</td>\n",
       "      <td>26</td>\n",
       "      <td>2</td>\n",
       "      <td>Murolite 250W</td>\n",
       "      <td>350</td>\n",
       "      <td>400</td>\n",
       "    </tr>\n",
       "    <tr>\n",
       "      <th>9996</th>\n",
       "      <td>9980</td>\n",
       "      <td>2012-04-24 15:12:49</td>\n",
       "      <td>330</td>\n",
       "      <td>2</td>\n",
       "      <td>91</td>\n",
       "      <td>1</td>\n",
       "      <td>Murolite 250W</td>\n",
       "      <td>350</td>\n",
       "      <td>400</td>\n",
       "    </tr>\n",
       "    <tr>\n",
       "      <th>9997</th>\n",
       "      <td>9982</td>\n",
       "      <td>2012-06-24 17:01:08</td>\n",
       "      <td>128</td>\n",
       "      <td>2</td>\n",
       "      <td>35</td>\n",
       "      <td>5</td>\n",
       "      <td>Murolite 250W</td>\n",
       "      <td>350</td>\n",
       "      <td>400</td>\n",
       "    </tr>\n",
       "    <tr>\n",
       "      <th>9998</th>\n",
       "      <td>9986</td>\n",
       "      <td>2012-03-15 18:04:13</td>\n",
       "      <td>101</td>\n",
       "      <td>2</td>\n",
       "      <td>33</td>\n",
       "      <td>5</td>\n",
       "      <td>Murolite 250W</td>\n",
       "      <td>350</td>\n",
       "      <td>400</td>\n",
       "    </tr>\n",
       "    <tr>\n",
       "      <th>9999</th>\n",
       "      <td>9988</td>\n",
       "      <td>2012-06-18 08:54:19</td>\n",
       "      <td>496</td>\n",
       "      <td>2</td>\n",
       "      <td>79</td>\n",
       "      <td>5</td>\n",
       "      <td>Murolite 250W</td>\n",
       "      <td>350</td>\n",
       "      <td>400</td>\n",
       "    </tr>\n",
       "  </tbody>\n",
       "</table>\n",
       "<p>10000 rows × 9 columns</p>\n",
       "</div>"
      ],
      "text/plain": [
       "      OrderID       OrderDateTime  CustomerID  ProductID  ProductQuantity  \\\n",
       "0           1 2012-06-09 06:20:18          73          5               46   \n",
       "1           5 2012-04-26 07:27:43         153          5               44   \n",
       "2          13 2012-05-31 01:37:53         260          5               63   \n",
       "3          19 2012-05-05 06:23:25          99          5               11   \n",
       "4          20 2012-04-16 11:38:15         166          5               21   \n",
       "5          23 2012-02-01 06:28:44         287          5               29   \n",
       "6          50 2012-06-09 00:03:37         246          5               39   \n",
       "7          52 2012-06-12 01:12:01         303          5               66   \n",
       "8          60 2012-02-09 01:18:25         116          5               46   \n",
       "9          64 2012-02-20 18:19:09          51          5                3   \n",
       "10         75 2012-06-26 00:45:35         459          5               62   \n",
       "11         86 2012-01-15 03:46:17         196          5               80   \n",
       "12         94 2012-01-22 23:54:54         438          5                2   \n",
       "13        101 2012-05-09 01:28:58         431          5               46   \n",
       "14        130 2012-03-19 15:09:26          22          5               82   \n",
       "15        134 2012-02-18 08:17:49         127          5               95   \n",
       "16        137 2012-01-23 22:40:24         467          5               84   \n",
       "17        155 2012-02-14 04:19:41         175          5               59   \n",
       "18        169 2012-05-25 14:26:26         404          5               88   \n",
       "19        186 2012-03-06 13:20:00         108          5               21   \n",
       "20        193 2012-02-02 07:45:42         264          5               17   \n",
       "21        207 2012-03-12 19:13:10         335          5               15   \n",
       "22        208 2012-01-03 03:44:41         473          5                8   \n",
       "23        216 2012-05-29 12:07:31         364          5               90   \n",
       "24        221 2012-02-19 05:44:41         494          5               95   \n",
       "25        228 2012-02-17 09:13:50         420          5               14   \n",
       "26        241 2012-05-21 11:52:16         399          5               59   \n",
       "27        245 2012-02-29 09:19:27         185          5               75   \n",
       "28        273 2012-06-08 08:22:28          13          5               30   \n",
       "29        285 2012-04-07 11:41:04           9          5                9   \n",
       "...       ...                 ...         ...        ...              ...   \n",
       "9970     9705 2012-01-25 04:27:40         390          2               65   \n",
       "9971     9707 2012-02-22 15:11:11         452          2               41   \n",
       "9972     9723 2012-03-20 03:02:10         353          2               30   \n",
       "9973     9726 2012-05-04 21:17:11         114          2               59   \n",
       "9974     9728 2012-01-21 21:44:36         335          2               80   \n",
       "9975     9763 2012-03-15 11:42:13         372          2               84   \n",
       "9976     9772 2012-03-14 01:18:36         293          2               72   \n",
       "9977     9773 2012-03-19 08:18:19          29          2               65   \n",
       "9978     9774 2012-06-09 10:33:07         107          2               64   \n",
       "9979     9780 2012-02-04 11:38:01         394          2               77   \n",
       "9980     9781 2012-06-19 15:24:42         104          2               29   \n",
       "9981     9847 2012-03-23 11:54:21         486          2               34   \n",
       "9982     9890 2012-03-27 22:17:06         237          2               51   \n",
       "9983     9907 2012-06-10 12:10:21         424          2               89   \n",
       "9984     9918 2012-06-10 21:19:26           2          2               55   \n",
       "9985     9921 2012-01-08 20:09:32         198          2               98   \n",
       "9986     9928 2012-01-10 17:24:25         496          2               94   \n",
       "9987     9930 2012-05-12 01:53:54         480          2               29   \n",
       "9988     9933 2012-04-16 19:39:45         211          2               63   \n",
       "9989     9936 2012-02-21 05:27:58         431          2               51   \n",
       "9990     9948 2012-06-09 17:49:30         142          2               89   \n",
       "9991     9952 2012-03-19 07:40:41         277          2               58   \n",
       "9992     9953 2012-01-29 07:55:46         464          2               82   \n",
       "9993     9960 2012-05-04 22:34:15         130          2               85   \n",
       "9994     9964 2012-04-02 12:22:39          79          2               32   \n",
       "9995     9979 2012-01-16 15:16:31         460          2               26   \n",
       "9996     9980 2012-04-24 15:12:49         330          2               91   \n",
       "9997     9982 2012-06-24 17:01:08         128          2               35   \n",
       "9998     9986 2012-03-15 18:04:13         101          2               33   \n",
       "9999     9988 2012-06-18 08:54:19         496          2               79   \n",
       "\n",
       "      PromotionID                ProductName  ProductCost  ProductPrice  \n",
       "0               3  Proyector Circular de 22\"          150           250  \n",
       "1               4  Proyector Circular de 22\"          150           250  \n",
       "2               2  Proyector Circular de 22\"          150           250  \n",
       "3               5  Proyector Circular de 22\"          150           250  \n",
       "4               3  Proyector Circular de 22\"          150           250  \n",
       "5               1  Proyector Circular de 22\"          150           250  \n",
       "6               5  Proyector Circular de 22\"          150           250  \n",
       "7               3  Proyector Circular de 22\"          150           250  \n",
       "8               5  Proyector Circular de 22\"          150           250  \n",
       "9               3  Proyector Circular de 22\"          150           250  \n",
       "10              3  Proyector Circular de 22\"          150           250  \n",
       "11              2  Proyector Circular de 22\"          150           250  \n",
       "12              5  Proyector Circular de 22\"          150           250  \n",
       "13              1  Proyector Circular de 22\"          150           250  \n",
       "14              1  Proyector Circular de 22\"          150           250  \n",
       "15              2  Proyector Circular de 22\"          150           250  \n",
       "16              1  Proyector Circular de 22\"          150           250  \n",
       "17              4  Proyector Circular de 22\"          150           250  \n",
       "18              2  Proyector Circular de 22\"          150           250  \n",
       "19              1  Proyector Circular de 22\"          150           250  \n",
       "20              2  Proyector Circular de 22\"          150           250  \n",
       "21              5  Proyector Circular de 22\"          150           250  \n",
       "22              5  Proyector Circular de 22\"          150           250  \n",
       "23              3  Proyector Circular de 22\"          150           250  \n",
       "24              1  Proyector Circular de 22\"          150           250  \n",
       "25              3  Proyector Circular de 22\"          150           250  \n",
       "26              2  Proyector Circular de 22\"          150           250  \n",
       "27              4  Proyector Circular de 22\"          150           250  \n",
       "28              1  Proyector Circular de 22\"          150           250  \n",
       "29              1  Proyector Circular de 22\"          150           250  \n",
       "...           ...                        ...          ...           ...  \n",
       "9970            5              Murolite 250W          350           400  \n",
       "9971            4              Murolite 250W          350           400  \n",
       "9972            1              Murolite 250W          350           400  \n",
       "9973            4              Murolite 250W          350           400  \n",
       "9974            4              Murolite 250W          350           400  \n",
       "9975            4              Murolite 250W          350           400  \n",
       "9976            2              Murolite 250W          350           400  \n",
       "9977            3              Murolite 250W          350           400  \n",
       "9978            3              Murolite 250W          350           400  \n",
       "9979            5              Murolite 250W          350           400  \n",
       "9980            3              Murolite 250W          350           400  \n",
       "9981            3              Murolite 250W          350           400  \n",
       "9982            4              Murolite 250W          350           400  \n",
       "9983            3              Murolite 250W          350           400  \n",
       "9984            2              Murolite 250W          350           400  \n",
       "9985            2              Murolite 250W          350           400  \n",
       "9986            1              Murolite 250W          350           400  \n",
       "9987            4              Murolite 250W          350           400  \n",
       "9988            1              Murolite 250W          350           400  \n",
       "9989            2              Murolite 250W          350           400  \n",
       "9990            5              Murolite 250W          350           400  \n",
       "9991            3              Murolite 250W          350           400  \n",
       "9992            1              Murolite 250W          350           400  \n",
       "9993            1              Murolite 250W          350           400  \n",
       "9994            4              Murolite 250W          350           400  \n",
       "9995            2              Murolite 250W          350           400  \n",
       "9996            1              Murolite 250W          350           400  \n",
       "9997            5              Murolite 250W          350           400  \n",
       "9998            5              Murolite 250W          350           400  \n",
       "9999            5              Murolite 250W          350           400  \n",
       "\n",
       "[10000 rows x 9 columns]"
      ]
     },
     "execution_count": 3,
     "metadata": {},
     "output_type": "execute_result"
    }
   ],
   "source": [
    "productOrders = orders.merge(products)\n",
    "productOrders"
   ]
  },
  {
   "cell_type": "code",
   "execution_count": 5,
   "metadata": {
    "collapsed": true
   },
   "outputs": [],
   "source": [
    "productOrders['OrderAmount'] = productOrders['ProductQuantity'] * productOrders['ProductPrice']"
   ]
  },
  {
   "cell_type": "markdown",
   "metadata": {},
   "source": [
    "## Clientes"
   ]
  },
  {
   "cell_type": "code",
   "execution_count": 6,
   "metadata": {
    "collapsed": true
   },
   "outputs": [],
   "source": [
    "#¿Quienes son nuestros clientes?"
   ]
  },
  {
   "cell_type": "code",
   "execution_count": 7,
   "metadata": {
    "collapsed": true
   },
   "outputs": [],
   "source": [
    "#¿Cuales son los diez estados con la mayor cantidad de clientes?"
   ]
  },
  {
   "cell_type": "code",
   "execution_count": 8,
   "metadata": {
    "collapsed": true
   },
   "outputs": [],
   "source": [
    "#Cuántos clientes únicos tuvimos en el mes de Febrero del 2012?"
   ]
  },
  {
   "cell_type": "code",
   "execution_count": 9,
   "metadata": {
    "collapsed": true
   },
   "outputs": [],
   "source": [
    "#¿Quienes son nuestros clientes más leales?"
   ]
  },
  {
   "cell_type": "code",
   "execution_count": 10,
   "metadata": {
    "collapsed": true
   },
   "outputs": [],
   "source": [
    "#¿Cuanto gastará un cliente durante su relación con nuestra compañía?"
   ]
  },
  {
   "cell_type": "code",
   "execution_count": 11,
   "metadata": {
    "collapsed": true
   },
   "outputs": [],
   "source": [
    "#¿Cuánto estamos dispuestos a pagar para ganar un nuevo cliente?"
   ]
  },
  {
   "cell_type": "code",
   "execution_count": 12,
   "metadata": {
    "collapsed": true
   },
   "outputs": [],
   "source": [
    "# Cuales clientes están más en riesgo para irse?"
   ]
  },
  {
   "cell_type": "code",
   "execution_count": 13,
   "metadata": {
    "collapsed": true
   },
   "outputs": [],
   "source": [
    "# ¿Qué clientes son los que tienen mayor probabilidad de comprar un producto?"
   ]
  },
  {
   "cell_type": "markdown",
   "metadata": {},
   "source": [
    "## Productos"
   ]
  },
  {
   "cell_type": "code",
   "execution_count": 14,
   "metadata": {
    "collapsed": true
   },
   "outputs": [],
   "source": [
    "# ¿Cuáles fueron las ventas totales en cada estado?"
   ]
  },
  {
   "cell_type": "code",
   "execution_count": 15,
   "metadata": {
    "collapsed": true
   },
   "outputs": [],
   "source": [
    "# ¿Cuáles fueron los diez productos más populares por ventas?"
   ]
  },
  {
   "cell_type": "code",
   "execution_count": 16,
   "metadata": {
    "collapsed": true
   },
   "outputs": [],
   "source": [
    "# ¿Cuáles fueron los diez productos con mayor revenue?"
   ]
  },
  {
   "cell_type": "code",
   "execution_count": 17,
   "metadata": {
    "collapsed": true
   },
   "outputs": [],
   "source": [
    "#¿Cuáles fueron los diez productos más populares por profit?"
   ]
  },
  {
   "cell_type": "code",
   "execution_count": 18,
   "metadata": {
    "collapsed": true
   },
   "outputs": [],
   "source": [
    "# ¿Cuánto producto es lo más probable que se le venda a un grupo de compradores?"
   ]
  },
  {
   "cell_type": "code",
   "execution_count": 19,
   "metadata": {
    "collapsed": true
   },
   "outputs": [],
   "source": [
    "# ¿Cuánto de un producto esperamos vender la siguiente semana?"
   ]
  },
  {
   "cell_type": "code",
   "execution_count": 20,
   "metadata": {
    "collapsed": true
   },
   "outputs": [],
   "source": [
    "# ¿Cuánto producto deberíamos de tener en stock?"
   ]
  },
  {
   "cell_type": "markdown",
   "metadata": {},
   "source": [
    "## Operaciones"
   ]
  },
  {
   "cell_type": "code",
   "execution_count": 21,
   "metadata": {
    "collapsed": true
   },
   "outputs": [],
   "source": [
    "# ¿Cuál fue la promoción más efectiva por revenue?"
   ]
  },
  {
   "cell_type": "code",
   "execution_count": 22,
   "metadata": {
    "collapsed": true
   },
   "outputs": [],
   "source": [
    "# ¿Cuál fue la promoción más efectiva por profit?"
   ]
  },
  {
   "cell_type": "code",
   "execution_count": 23,
   "metadata": {
    "collapsed": true
   },
   "outputs": [],
   "source": [
    "# ¿Qué tanto impacto tuvieron las promociones sobre las ventas?"
   ]
  },
  {
   "cell_type": "markdown",
   "metadata": {
    "collapsed": true
   },
   "source": [
    "# Geo: Un ejercicio rapido para trabajar con datos geográficos"
   ]
  },
  {
   "cell_type": "markdown",
   "metadata": {},
   "source": [
    "Georeferenciar es convertir una dirección fisica en una longitud y latitud. Acá un proceso sencillo para tomar una dirección y obtener direcciones."
   ]
  },
  {
   "cell_type": "code",
   "execution_count": 25,
   "metadata": {
    "collapsed": false
   },
   "outputs": [
    {
     "data": {
      "text/plain": [
       "(-74.01459, 40.716597)"
      ]
     },
     "execution_count": 25,
     "metadata": {},
     "output_type": "execute_result"
    }
   ],
   "source": [
    "import json\n",
    "import re\n",
    "from urllib.parse import quote_plus, urljoin\n",
    "from urllib.request import urlopen\n",
    "\n",
    "PATTERN_FRACTION = re.compile(r'\\s+\\d+/\\d+\\s+')\n",
    "\n",
    "def get_location(address):\n",
    "    \"\"\"\n",
    "    Convert address into longitude and latitude using the\n",
    "    Data Science Toolkit API.  Also, see geopy.\n",
    "    http://www.datasciencetoolkit.org/developerdocs#street2coordinates\n",
    "    \"\"\"\n",
    "    base_url = 'http://www.datasciencetoolkit.org/street2coordinates/'\n",
    "    url = urljoin(base_url, quote_plus(normalize_address(address)))\n",
    "    text = urlopen(url).read().decode(\"utf-8\")\n",
    "    try:\n",
    "        data = json.loads(text)\n",
    "    except ValueError:\n",
    "        raise ValueError('Could not parse \"%s\"' % text)\n",
    "    try:\n",
    "        value = data[list(data.keys())[0]]\n",
    "        longitude = value['longitude']\n",
    "        latitude = value['latitude']\n",
    "    except TypeError:\n",
    "        longitude = None\n",
    "        latitude = None\n",
    "    return longitude, latitude\n",
    "\n",
    "def normalize_address(address):\n",
    "    address = PATTERN_FRACTION.sub(' ', address)\n",
    "    return address\n",
    "\n",
    "get_location('345 Chambers St, New York, NY 10282')"
   ]
  },
  {
   "cell_type": "markdown",
   "metadata": {},
   "source": [
    "### Mapas Interactivos en Segundos"
   ]
  },
  {
   "cell_type": "code",
   "execution_count": 43,
   "metadata": {
    "collapsed": false
   },
   "outputs": [],
   "source": [
    "import folium\n",
    "from IPython.core.display import display, HTML\n",
    "\n",
    "map_osm = folium.Map(location=[45.5236, -122.6750])\n",
    "map_osm.create_map(path='osm.html')"
   ]
  },
  {
   "cell_type": "markdown",
   "metadata": {},
   "source": [
    "### Ejercicio de Análisis de Datos Geográficos\n",
    "\n",
    "Encontremos los graffitis que están a menos de 100 metros de las entradas al metro de NYC"
   ]
  },
  {
   "cell_type": "code",
   "execution_count": 54,
   "metadata": {
    "collapsed": false
   },
   "outputs": [],
   "source": [
    "from pandas import read_csv\n",
    "graffiti = read_csv('datasets/NYC-GraffitiSightings.csv')\n",
    "subway = read_csv('datasets/NYC-SubwayEntrances.csv')"
   ]
  },
  {
   "cell_type": "code",
   "execution_count": 55,
   "metadata": {
    "collapsed": false
   },
   "outputs": [
    {
     "data": {
      "text/plain": [
       "Incident Address Display                                  1 ALLEN STREET\n",
       "Borough                                                        MANHATTAN\n",
       "Community Board                                    Unspecified MANHATTAN\n",
       "Police Precinct                                              Unspecified\n",
       "City Council District                                                NaN\n",
       "Created Date                                   02/03/2011 08:00 AM +0000\n",
       "Status                                                            Closed\n",
       "Resolution Action           Cleaning crew dispatched.  Property cleaned.\n",
       "Closed Date                                    05/11/2011 07:00 AM +0000\n",
       "X Coordinate                                                         NaN\n",
       "Y Coordinate                                                         NaN\n",
       "Name: 0, dtype: object"
      ]
     },
     "execution_count": 55,
     "metadata": {},
     "output_type": "execute_result"
    }
   ],
   "source": [
    "graffiti.ix[0]"
   ]
  },
  {
   "cell_type": "code",
   "execution_count": 56,
   "metadata": {
    "collapsed": true
   },
   "outputs": [],
   "source": [
    "graffiti = graffiti[graffiti.Status == 'Open']"
   ]
  },
  {
   "cell_type": "code",
   "execution_count": 57,
   "metadata": {
    "collapsed": true
   },
   "outputs": [],
   "source": [
    "graffitiXY = graffiti[['X Coordinate', 'Y Coordinate']]"
   ]
  },
  {
   "cell_type": "code",
   "execution_count": 58,
   "metadata": {
    "collapsed": true
   },
   "outputs": [],
   "source": [
    "graffitiXY = graffitiXY.rename(columns={'X Coordinate': 'X', 'Y Coordinate': 'Y'})"
   ]
  },
  {
   "cell_type": "code",
   "execution_count": 59,
   "metadata": {
    "collapsed": true
   },
   "outputs": [],
   "source": [
    "graffitiXY = graffitiXY.dropna()"
   ]
  },
  {
   "cell_type": "code",
   "execution_count": 60,
   "metadata": {
    "collapsed": true
   },
   "outputs": [],
   "source": [
    "graffitiXY = graffitiXY.dropna()"
   ]
  },
  {
   "cell_type": "markdown",
   "metadata": {},
   "source": [
    "http://www.kyngchaos.com/software/frameworks\n",
    "conda install gdal"
   ]
  },
  {
   "cell_type": "code",
   "execution_count": null,
   "metadata": {
    "collapsed": true
   },
   "outputs": [],
   "source": [
    "from pandas import Series\n",
    "from geometryIO import get_transformPoint, proj4LL\n",
    "\n",
    "proj4NY = '+proj=lcc +lat_1=41.03333333333333 +lat_2=40.66666666666666 +lat_0=40.16666666666666 +lon_0=-74 +x_0=300000.0000000001 +y_0=0 +ellps=GRS80 +datum=NAD83 +to_meter=0.3048006096012192 +no_defs'\n",
    "transformPoint = get_transformPoint(proj4LL, proj4NY)\n",
    "\n",
    "def parse_point(row):\n",
    "    string = row['Shape']\n",
    "    latitude, longitude = string.replace('(', '').replace(')', '').split(',')\n",
    "    x, y = transformPoint(float(longitude), float(latitude))\n",
    "    return Series(dict(ID=row['OBJECTID'], X=x, Y=y))\n",
    "subwayIDXY = subway.apply(parse_point, axis=1)\n",
    "subwayXY = subwayIDXY[['X', 'Y']]"
   ]
  },
  {
   "cell_type": "code",
   "execution_count": 61,
   "metadata": {
    "collapsed": true
   },
   "outputs": [],
   "source": [
    "from scipy.spatial import KDTree\n",
    "ubwayXYValues = subwayXY.values\n",
    "subwayTree = KDTree(subwayXYValues)\n",
    "graffitiXYValues = graffitiXY.values\n",
    "graffitiTree = KDTree(graffitiXYValues)"
   ]
  },
  {
   "cell_type": "code",
   "execution_count": null,
   "metadata": {
    "collapsed": true
   },
   "outputs": [],
   "source": [
    "from pandas import DataFrame\n",
    "\n",
    "graffitiXYIndexPacks = subwayTree.query_ball_tree(graffitiTree, r=100)\n",
    "results = []\n",
    "for subwayID, graffitiXYIndices in zip(subwayIDXY['ID'], graffitiXYIndexPacks):\n",
    "    results.append([subwayID, len(graffitiXYIndices)])\n",
    "subwayGraffiti = DataFrame(results, columns=['OBJECTID', 'COUNT'])"
   ]
  },
  {
   "cell_type": "code",
   "execution_count": 65,
   "metadata": {
    "collapsed": false
   },
   "outputs": [
    {
     "ename": "ImportError",
     "evalue": "No module named 'osgeo'",
     "output_type": "error",
     "traceback": [
      "\u001b[0;31m---------------------------------------------------------------------------\u001b[0m",
      "\u001b[0;31mImportError\u001b[0m                               Traceback (most recent call last)",
      "\u001b[0;32m<ipython-input-65-7e0312ac4efb>\u001b[0m in \u001b[0;36m<module>\u001b[0;34m()\u001b[0m\n\u001b[0;32m----> 1\u001b[0;31m \u001b[0;32mfrom\u001b[0m \u001b[0mgeometryIO\u001b[0m \u001b[0;32mimport\u001b[0m \u001b[0mget_transformPoint\u001b[0m\u001b[0;34m,\u001b[0m \u001b[0mproj4LL\u001b[0m\u001b[0;34m\u001b[0m\u001b[0m\n\u001b[0m",
      "\u001b[0;32m/usr/local/lib/python3.4/site-packages/geometryIO/__init__.py\u001b[0m in \u001b[0;36m<module>\u001b[0;34m()\u001b[0m\n\u001b[1;32m      9\u001b[0m \u001b[0;32mimport\u001b[0m \u001b[0mdatetime\u001b[0m\u001b[0;34m\u001b[0m\u001b[0m\n\u001b[1;32m     10\u001b[0m \u001b[0;32mimport\u001b[0m \u001b[0mos\u001b[0m\u001b[0;34m\u001b[0m\u001b[0m\n\u001b[0;32m---> 11\u001b[0;31m \u001b[0;32mfrom\u001b[0m \u001b[0mosgeo\u001b[0m \u001b[0;32mimport\u001b[0m \u001b[0mgdal\u001b[0m\u001b[0;34m,\u001b[0m \u001b[0mogr\u001b[0m\u001b[0;34m,\u001b[0m \u001b[0mosr\u001b[0m\u001b[0;34m\u001b[0m\u001b[0m\n\u001b[0m\u001b[1;32m     12\u001b[0m \u001b[0;32mfrom\u001b[0m \u001b[0mshapely\u001b[0m \u001b[0;32mimport\u001b[0m \u001b[0mwkb\u001b[0m\u001b[0;34m,\u001b[0m \u001b[0mgeometry\u001b[0m\u001b[0;34m\u001b[0m\u001b[0m\n\u001b[1;32m     13\u001b[0m \u001b[0;34m\u001b[0m\u001b[0m\n",
      "\u001b[0;31mImportError\u001b[0m: No module named 'osgeo'"
     ]
    }
   ],
   "source": [
    "from geometryIO import get_transformPoint, proj4LL"
   ]
  },
  {
   "cell_type": "code",
   "execution_count": null,
   "metadata": {
    "collapsed": true
   },
   "outputs": [],
   "source": []
  }
 ],
 "metadata": {
  "kernelspec": {
   "display_name": "Python 3",
   "language": "python",
   "name": "python3"
  },
  "language_info": {
   "codemirror_mode": {
    "name": "ipython",
    "version": 3
   },
   "file_extension": ".py",
   "mimetype": "text/x-python",
   "name": "python",
   "nbconvert_exporter": "python",
   "pygments_lexer": "ipython3",
   "version": "3.4.1"
  }
 },
 "nbformat": 4,
 "nbformat_minor": 0
}
